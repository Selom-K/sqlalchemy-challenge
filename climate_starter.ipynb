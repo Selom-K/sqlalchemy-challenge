{
 "cells": [
  {
   "cell_type": "code",
   "execution_count": null,
   "metadata": {},
   "outputs": [],
   "source": [
    "%matplotlib inline\n",
    "from matplotlib import style\n",
    "style.use('fivethirtyeight')\n",
    "import matplotlib.pyplot as plt"
   ]
  },
  {
   "cell_type": "code",
   "execution_count": null,
   "metadata": {},
   "outputs": [],
   "source": [
    "import numpy as np\n",
    "import pandas as pd\n",
    "import datetime as dt"
   ]
  },
  {
   "cell_type": "markdown",
   "metadata": {},
   "source": [
    "# Reflect Tables into SQLAlchemy ORM"
   ]
  },
  {
   "cell_type": "code",
   "execution_count": null,
   "metadata": {},
   "outputs": [],
   "source": [
    "# Python SQL toolkit and Object Relational Mapper\n",
    "import sqlalchemy\n",
    "from sqlalchemy.ext.automap import automap_base\n",
    "from sqlalchemy.orm import Session\n",
    "from sqlalchemy import create_engine, func"
   ]
  },
  {
   "cell_type": "code",
   "execution_count": null,
   "metadata": {},
   "outputs": [],
   "source": [
    "# create engine to hawaii.sqlite\n",
    "engine = create_engine(\"sqlite:///Resources/hawaii.sqlite\")"
   ]
  },
  {
   "cell_type": "code",
   "execution_count": null,
   "metadata": {},
   "outputs": [],
   "source": [
    "# reflect an existing database into a new model\n",
    "Base = automap_base()\n",
    "# reflect the tables\n",
    "Base.prepare(engine, reflect=True)"
   ]
  },
  {
   "cell_type": "code",
   "execution_count": null,
   "metadata": {},
   "outputs": [],
   "source": [
    "# View all of the classes that automap found\n",
    "Base.classes.keys()"
   ]
  },
  {
   "cell_type": "code",
   "execution_count": null,
   "metadata": {},
   "outputs": [],
   "source": [
    "# Save references to each table\n",
    "Measurement = Base.classes.measurement\n",
    "Station = Base.classes.station"
   ]
  },
  {
   "cell_type": "code",
   "execution_count": null,
   "metadata": {},
   "outputs": [],
   "source": [
    "# Create our session (link) from Python to the DB\n",
    "session = Session(engine)"
   ]
  },
  {
   "cell_type": "markdown",
   "metadata": {},
   "source": [
    "# Exploratory Precipitation Analysis"
   ]
  },
  {
   "cell_type": "code",
   "execution_count": null,
   "metadata": {},
   "outputs": [],
   "source": [
    "# Find the most recent date in the data set\n",
    "latest_date = (session.query(Measurement.date).order_by(Measurement.date.desc()).first())\n",
    "\n",
    "# Design a query to retrieve the last 12 months of precipitation data and plot the results \n",
    "# Starting from the most recent data point in the database\n",
    "latest_date = list(np.ravel(latest_date))[0]\n",
    "\n",
    "# Calculate the date one year from the last date in data set\n",
    "latest_date = dt.datetime.strptime(latest_date, '%Y-%m-%d')\n",
    "latest_year = int(dt.datetime.strftime(latest_date, '%Y'))\n",
    "latest_month = int(dt.datetime.strftime(latest_date, '%m'))\n",
    "latest_date = int(dt.datetime.strftime(latest_date, '%d'))\n",
    "\n",
    "#calculate one year before latest date\n",
    "yearBefore = dt.date(latest_year, latest_month, latest_date) - dt.timedelta(days=365)\n",
    "\n",
    "# Perform a query to retrieve the data and precipitation scores\n",
    "precipitation_scores = (session.query(Measurement.date, Measurement.prcp).filter(Measurement.date > yearBefore)\n",
    "            .order_by(Measurement.date).all())\n",
    "\n",
    "# Save the query results as a Pandas DataFrame and set the index to the date column\n",
    "precipitation_data = pd.DataFrame(precipitation_scores)\n",
    "precipitation_data = precipitation_data.set_index(\"date\")\n",
    "\n",
    "# Sort the dataframe by date\n",
    "precipitation_data = precipitation_data.sort_index(ascending=True)\n",
    "\n",
    "# Use Pandas Plotting with Matplotlib to plot the data\n",
    "\n",
    "figure, ax = plt.subplots(figsize = (10, 5))\n",
    "precipitation_data.plot(ax = ax, x_compat = True)\n",
    "\n",
    "#title and labels\n",
    "ax.set_xlabel(\"Date\")\n",
    "ax.set_ylabel(\"Inches\")\n",
    "ax.set_title(\"Precipitation\")\n",
    "\n",
    "plt.savefig(\"Images/precipitation.png\")\n",
    "\n",
    "#plot\n",
    "plt.tight_layout()\n",
    "plt.show()"
   ]
  },
  {
   "cell_type": "code",
   "execution_count": null,
   "metadata": {},
   "outputs": [],
   "source": [
    "# Use Pandas to calcualte the summary statistics for the precipitation data\n",
    "precipitation_data.describe()"
   ]
  },
  {
   "cell_type": "markdown",
   "metadata": {},
   "source": [
    "# Exploratory Station Analysis"
   ]
  },
  {
   "cell_type": "code",
   "execution_count": null,
   "metadata": {},
   "outputs": [],
   "source": [
    "# Design a query to calculate the total number stations in the dataset\n",
    "number_stations = session.query(Station.id).distinct().count()\n",
    "number_stations"
   ]
  },
  {
   "cell_type": "code",
   "execution_count": null,
   "metadata": {},
   "outputs": [],
   "source": [
    "# Design a query to find the most active stations (i.e. what stations have the most rows?)\n",
    "# List the stations and the counts in descending order.\n",
    "active_stations = (session.query(Measurement.station, func.count(Measurement.station)).group_by(Measurement.station)\n",
    "                        .order_by(func.count(Measurement.station).desc()).all())\n",
    "active_stations"
   ]
  },
  {
   "cell_type": "code",
   "execution_count": null,
   "metadata": {},
   "outputs": [],
   "source": [
    "# Using the most active station id from the previous query, calculate the lowest, highest, and average temperature.\n",
    "# Most active station\n",
    "most_active_station = active_stations[0][0]\n",
    "most_active_station_name = (session.query(Station.name).filter_by(station = most_active_station))\n",
    "most_active_station_name = most_active_station_name[0][0]\n",
    "print(f\"Most active station {most_active_station}: {most_active_station_name}\")"
   ]
  },
  {
   "cell_type": "code",
   "execution_count": null,
   "metadata": {},
   "outputs": [],
   "source": [
    "# Lowest temperature\n",
    "lowest_temperature = (session.query(Measurement.tobs)\n",
    "                     .filter(Measurement.station == most_active_station).order_by(Measurement.tobs.asc()).first())\n",
    "lowest_temperature = lowest_temperature[0]\n",
    "print(f\"The lowest temperature there is {lowest_temperature} F\")"
   ]
  },
  {
   "cell_type": "code",
   "execution_count": null,
   "metadata": {},
   "outputs": [],
   "source": [
    "# Highest temperature\n",
    "highest_temperature = (session.query(Measurement.tobs).filter(Measurement.station == most_active_station)\n",
    "                       .order_by(Measurement.tobs.desc()).first())\n",
    "highest_temperature = highest_temperature[0]\n",
    "print(f\"The highest temperature is {highest_temperature} F\")"
   ]
  },
  {
   "cell_type": "code",
   "execution_count": null,
   "metadata": {},
   "outputs": [],
   "source": [
    "# Average temperature\n",
    "average_temperature = (session.query(func.avg(Measurement.tobs)).filter(Measurement.station == most_active_station))\n",
    "average_temperature = '{0:.3}'.format(average_temperature[0][0])\n",
    "print(f\"The average temperature is {average_temperature} F\")"
   ]
  },
  {
   "cell_type": "code",
   "execution_count": null,
   "metadata": {},
   "outputs": [],
   "source": [
    "# # Using the most active station id\n",
    "# # Query the last 12 months of temperature observation data for this station and plot the results as a histogram\n",
    "\n",
    "\n",
    "last_year_temperature = (session.query(Measurement.date, Measurement.tobs).filter(Measurement.date > yearBefore)\n",
    "                   .filter(Measurement.station == most_active_station).order_by(Measurement.date).all())\n",
    "\n",
    "# # Conersion of query object into Data frame\n",
    "temperature = pd.DataFrame(last_year_temperature)\n",
    "temperature = temperature.set_index(\"date\")\n",
    "\n",
    "\n",
    "# # Sorting the data by date\n",
    "temperature = temperature.sort_index(ascending=True)\n",
    "\n",
    "# # Plotting the results as a histogram\n",
    "temperature.plot(kind=\"hist\", bins= 8)"
   ]
  },
  {
   "cell_type": "markdown",
   "metadata": {},
   "source": [
    "# Close session"
   ]
  },
  {
   "cell_type": "code",
   "execution_count": null,
   "metadata": {},
   "outputs": [],
   "source": [
    "# Close Session\n",
    "session.close()"
   ]
  }
 ],
 "metadata": {
  "anaconda-cloud": {},
  "kernel_info": {
   "name": "python3"
  },
  "kernelspec": {
   "display_name": "Python 3",
   "language": "python",
   "name": "python3"
  },
  "language_info": {
   "codemirror_mode": {
    "name": "ipython",
    "version": 3
   },
   "file_extension": ".py",
   "mimetype": "text/x-python",
   "name": "python",
   "nbconvert_exporter": "python",
   "pygments_lexer": "ipython3",
   "version": "3.6.10"
  },
  "nteract": {
   "version": "0.12.3"
  },
  "varInspector": {
   "cols": {
    "lenName": 16,
    "lenType": 16,
    "lenVar": 40
   },
   "kernels_config": {
    "python": {
     "delete_cmd_postfix": "",
     "delete_cmd_prefix": "del ",
     "library": "var_list.py",
     "varRefreshCmd": "print(var_dic_list())"
    },
    "r": {
     "delete_cmd_postfix": ") ",
     "delete_cmd_prefix": "rm(",
     "library": "var_list.r",
     "varRefreshCmd": "cat(var_dic_list()) "
    }
   },
   "types_to_exclude": [
    "module",
    "function",
    "builtin_function_or_method",
    "instance",
    "_Feature"
   ],
   "window_display": false
  }
 },
 "nbformat": 4,
 "nbformat_minor": 2
}
